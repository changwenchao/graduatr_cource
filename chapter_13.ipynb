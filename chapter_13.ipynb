{
 "cells": [
  {
   "cell_type": "code",
   "execution_count": 2,
   "metadata": {},
   "outputs": [],
   "source": [
    "from scipy import stats\n",
    "from scipy import optimize"
   ]
  },
  {
   "cell_type": "code",
   "execution_count": 3,
   "metadata": {},
   "outputs": [],
   "source": [
    "import numpy as np\n",
    "import matplotlib.pyplot as plt\n",
    "import seaborn as sns#这个模块设置了图的背景表格\n",
    "sns.set(style=\"whitegrid\")"
   ]
  },
  {
   "cell_type": "code",
   "execution_count": 4,
   "metadata": {},
   "outputs": [
    {
     "data": {
      "text/plain": [
       "3.1"
      ]
     },
     "execution_count": 4,
     "metadata": {},
     "output_type": "execute_result"
    }
   ],
   "source": [
    "x = np.array([3.5, 1.1, 3.2, 2.8, 6.7, 4.4, 0.9, 2.2])\n",
    "np.mean(x)"
   ]
  },
  {
   "cell_type": "code",
   "execution_count": 8,
   "metadata": {},
   "outputs": [
    {
     "data": {
      "text/plain": [
       "3.0"
      ]
     },
     "execution_count": 8,
     "metadata": {},
     "output_type": "execute_result"
    }
   ],
   "source": [
    "np.median(x)    #中值"
   ]
  },
  {
   "cell_type": "code",
   "execution_count": 9,
   "metadata": {},
   "outputs": [
    {
     "data": {
      "text/plain": [
       "3.1"
      ]
     },
     "execution_count": 9,
     "metadata": {},
     "output_type": "execute_result"
    }
   ],
   "source": [
    "x.mean()#跟np.mean(x)效果一样"
   ]
  },
  {
   "cell_type": "code",
   "execution_count": 10,
   "metadata": {},
   "outputs": [
    {
     "data": {
      "text/plain": [
       "(0.9, 6.7)"
      ]
     },
     "execution_count": 10,
     "metadata": {},
     "output_type": "execute_result"
    }
   ],
   "source": [
    "x.min(), x.max()"
   ]
  },
  {
   "cell_type": "code",
   "execution_count": 11,
   "metadata": {},
   "outputs": [
    {
     "data": {
      "text/plain": [
       "3.0700000000000007"
      ]
     },
     "execution_count": 11,
     "metadata": {},
     "output_type": "execute_result"
    }
   ],
   "source": [
    "x.var()#方差"
   ]
  },
  {
   "cell_type": "code",
   "execution_count": 12,
   "metadata": {},
   "outputs": [
    {
     "data": {
      "text/plain": [
       "1.7521415467935233"
      ]
     },
     "execution_count": 12,
     "metadata": {},
     "output_type": "execute_result"
    }
   ],
   "source": [
    "x.std()#标准偏差   对3.0700000000000007求"
   ]
  },
  {
   "cell_type": "code",
   "execution_count": 13,
   "metadata": {},
   "outputs": [
    {
     "data": {
      "text/plain": [
       "array([0.24785292, 0.20750439, 0.64511361, 0.47695841, 0.36937161])"
      ]
     },
     "execution_count": 13,
     "metadata": {},
     "output_type": "execute_result"
    }
   ],
   "source": [
    "np.random.rand(5)"
   ]
  },
  {
   "cell_type": "code",
   "execution_count": 14,
   "metadata": {},
   "outputs": [
    {
     "data": {
      "text/plain": [
       "array([[0.62740878, 0.57319381, 0.83916358, 0.41026425],\n",
       "       [0.26999539, 0.32638791, 0.51642231, 0.39431438]])"
      ]
     },
     "execution_count": 14,
     "metadata": {},
     "output_type": "execute_result"
    }
   ],
   "source": [
    "np.random.rand(2,4)"
   ]
  },
  {
   "cell_type": "code",
   "execution_count": 15,
   "metadata": {},
   "outputs": [
    {
     "data": {
      "text/plain": [
       "array([4, 9, 8, 4, 6, 1, 1, 6, 5, 8])"
      ]
     },
     "execution_count": 15,
     "metadata": {},
     "output_type": "execute_result"
    }
   ],
   "source": [
    "np.random.randint(10, size=10)"
   ]
  },
  {
   "cell_type": "code",
   "execution_count": 16,
   "metadata": {},
   "outputs": [
    {
     "data": {
      "text/plain": [
       "array([[17, 14, 11, 19, 16, 11, 11, 11, 13, 19],\n",
       "       [19, 12, 10, 15, 17, 12, 13, 14, 19, 19]])"
      ]
     },
     "execution_count": 16,
     "metadata": {},
     "output_type": "execute_result"
    }
   ],
   "source": [
    "np.random.randint(low=10, high=20, size=(2, 10))#最低10，最高20，2行10列"
   ]
  },
  {
   "cell_type": "code",
   "execution_count": 17,
   "metadata": {},
   "outputs": [
    {
     "data": {
      "text/plain": [
       "Text(0.5, 1.0, 'randint(low=1, high=10)')"
      ]
     },
     "execution_count": 17,
     "metadata": {},
     "output_type": "execute_result"
    },
    {
     "data": {
      "image/png": "[encoded data removed]",
      "text/plain": [
       "<Figure size 864x216 with 3 Axes>"
      ]
     },
     "metadata": {
      "needs_background": "light"
     },
     "output_type": "display_data"
    }
   ],
   "source": [
    "fig, axes = plt.subplots(1, 3, figsize=(12, 3))#12，3表示宽和高    fig就是figure:画像，画图，图片变量\n",
    "#ax=plt.subplots(m,n,figsize=(a,b))画出m*n个子图，size为a*b，ax为m*n的坐标变量（数组），分别指向相应生成字图的坐标\n",
    "axes[0].hist(np.random.rand(10000))#取样10000次\n",
    "axes[0].set_title(\"rand\")\n",
    "axes[1].hist(np.random.randn(10000),100)#randn  表示高斯分布,后边加的那个100表示100个区间\n",
    "axes[1].set_title(\"randn\")\n",
    "axes[2].hist(np.random.randint(low=1, high=10, size=10000),\n",
    "bins=9, align='left')\n",
    "axes[2].set_title(\"randint(low=1, high=10)\")#这里必须是axes[0]到axes[2],,,换个就不行，axes[1]-axes[3]就不行"
   ]
  },
  {
   "cell_type": "code",
   "execution_count": 18,
   "metadata": {},
   "outputs": [],
   "source": [
    "a=np.random.randn(1000)"
   ]
  },
  {
   "cell_type": "code",
   "execution_count": 19,
   "metadata": {},
   "outputs": [
    {
     "data": {
      "text/plain": [
       "array([ 1.04343978e+00,  3.20414878e-01,  2.37270566e-01,  5.15729117e-01,\n",
       "        1.22349378e+00, -5.72143991e-01,  1.25605493e+00,  8.05642170e-01,\n",
       "       -7.93108676e-01, -8.75078960e-01, -1.47506783e+00,  4.45316673e-01,\n",
       "       -8.16975958e-01,  1.31354902e+00, -1.65286258e+00, -1.00258183e+00,\n",
       "        1.99989434e+00, -6.44917050e-01,  2.45759928e-01, -2.86888145e-02,\n",
       "       -1.72463860e+00,  6.93139375e-01,  1.84148378e-01,  2.35729554e-01,\n",
       "        2.25980640e+00,  5.30957513e-01,  6.38619517e-01, -8.29821165e-02,\n",
       "        1.25556055e-01, -9.36279159e-02, -6.02739948e-01,  1.48405756e+00,\n",
       "       -5.87921325e-02,  1.38836442e+00,  1.83238409e-01,  3.85463770e-01,\n",
       "        4.66386876e-01, -9.60035381e-01, -3.09273568e-01, -8.04973287e-01,\n",
       "        3.25033945e-01,  8.09491089e-01,  5.18124497e-01,  4.92598273e-01,\n",
       "        3.88971952e-01, -1.74930407e+00, -1.25837341e+00,  6.12839414e-01,\n",
       "        6.97115693e-02,  1.08102667e+00, -6.62279706e-01, -2.08674006e+00,\n",
       "        6.04034517e-02, -3.68805908e-01,  1.63301189e-02, -1.88377726e-01,\n",
       "        4.12576625e-01,  6.56331053e-01, -1.25878577e+00, -5.99928075e-01,\n",
       "       -1.24677674e+00, -1.35340648e-01,  2.04461280e+00, -1.77695324e+00,\n",
       "       -4.46304299e-01, -1.32997993e-01, -1.20213113e-01, -6.19532688e-01,\n",
       "       -1.39474412e+00,  1.45764476e+00, -2.35743080e-01,  1.36288044e+00,\n",
       "       -5.12326411e-02, -1.06463977e-01, -1.16626677e+00, -6.80084224e-01,\n",
       "       -1.47360567e+00,  2.84222237e-02, -5.50169376e-01,  3.76479958e-01,\n",
       "       -3.96055469e-01,  8.47135897e-01, -7.15738903e-01,  5.82312965e-01,\n",
       "        6.91308497e-01,  1.84229075e+00,  9.51680826e-01, -3.99353320e-01,\n",
       "       -1.17974781e+00,  1.48601401e+00, -6.51458983e-01,  1.45535082e-01,\n",
       "        3.76441954e-02, -7.94041798e-01, -4.33809154e-01,  1.38960423e-01,\n",
       "        1.35093743e-02, -2.18821773e+00, -1.33450023e-01, -2.45534756e-01,\n",
       "        6.03101029e-01, -7.18473136e-01, -1.28507349e+00, -1.90385406e+00,\n",
       "        9.50365160e-01,  5.83792313e-02,  1.41312134e+00, -1.65538392e-01,\n",
       "        1.27523506e+00,  1.47049040e+00,  1.87090314e+00,  1.82865790e-01,\n",
       "       -6.31045115e-01,  2.18065304e-01, -2.27293089e+00,  2.22511612e-01,\n",
       "       -8.16945098e-01, -8.38556350e-01, -2.41548957e-02, -2.63547398e-01,\n",
       "        7.81590472e-02,  2.24758765e+00,  1.41432806e+00,  1.37032574e+00,\n",
       "        7.04454232e-01, -1.80198168e+00, -4.52123902e-01, -4.90928450e-01,\n",
       "       -1.13408181e+00, -7.13724150e-01, -3.99788928e-01, -4.06070061e-01,\n",
       "       -4.52184177e-01, -7.97427619e-01,  2.13585065e+00,  1.55128047e+00,\n",
       "       -1.43213452e+00,  2.63865403e+00,  1.57520867e+00, -3.67376761e-01,\n",
       "        1.46272014e-02,  4.98399370e-01, -2.17530777e-01,  3.54222262e-01,\n",
       "       -9.83990843e-01,  1.10065893e+00,  3.52375067e-01, -6.90262076e-01,\n",
       "       -6.38474000e-01, -2.50692727e-01,  1.97510254e+00, -5.38336239e-01,\n",
       "       -8.17119284e-01,  7.88780983e-01,  9.35744461e-01,  1.65073204e+00,\n",
       "       -1.32270302e+00,  5.89629301e-01, -6.26893894e-01,  8.09132148e-01,\n",
       "       -1.97570603e-01, -7.51961786e-01,  3.02514918e-01, -8.20673465e-01,\n",
       "        9.63747110e-01,  6.80227729e-01,  5.63754641e-01,  8.26254071e-02,\n",
       "       -5.04399579e-01,  2.19145510e-01, -1.61480175e+00, -1.46446142e+00,\n",
       "       -2.00472702e+00, -1.75047650e-02,  3.26101574e-01,  2.70269325e-01,\n",
       "       -7.42472258e-01, -5.53139718e-01, -9.62488998e-01,  1.06973615e+00,\n",
       "        6.42710243e-01,  1.13473064e+00,  1.73732693e+00, -3.41325949e-01,\n",
       "       -3.69766827e-01,  9.70999862e-01, -1.84243257e+00,  4.06720888e-01,\n",
       "       -7.54268241e-01, -9.53587014e-01,  1.85236702e+00, -5.96814819e-01,\n",
       "       -1.16464705e+00, -9.31238749e-01,  1.18559651e+00, -1.35346773e-01,\n",
       "        3.55810137e-01,  8.04461157e-01,  9.08770630e-02, -2.39362549e-01,\n",
       "        1.30436987e+00, -2.51767527e-01, -3.07612609e-01,  6.82461232e-01,\n",
       "       -9.91733379e-01,  2.13806459e-02,  1.01940098e+00, -1.89811174e-01,\n",
       "       -1.93517508e+00, -6.87952138e-01,  3.56868280e-01, -5.10392417e-01,\n",
       "        1.60004165e-01,  9.54560737e-01, -6.44614976e-01, -1.31357156e+00,\n",
       "        1.53675220e+00, -1.63767618e+00, -2.58645276e-01,  6.23811978e-02,\n",
       "        1.32574100e+00, -1.02744638e-01,  9.42463278e-01, -8.87425952e-01,\n",
       "       -1.16858356e+00,  1.03263301e+00,  6.93941517e-01,  4.97416219e-01,\n",
       "        8.34791596e-01, -7.54999306e-01,  1.58281992e+00,  3.11775409e-01,\n",
       "        1.37166760e+00, -9.49994255e-01, -1.76549519e-01, -2.11499560e-01,\n",
       "       -2.54548424e-01,  2.71719524e-01,  1.88811328e+00,  9.80895785e-01,\n",
       "        1.44810989e+00,  2.84125031e+00,  2.96816360e-01,  7.26339446e-01,\n",
       "        5.47376735e-01,  8.88952344e-01,  2.99464265e-01, -5.33829286e-01,\n",
       "       -6.67156729e-01,  1.81439139e+00, -1.02546640e+00, -1.87763748e-01,\n",
       "       -1.26797617e+00,  1.78139117e-01,  1.50244766e+00, -7.03135213e-01,\n",
       "       -6.54051059e-01,  2.24688019e+00, -3.83445758e-01, -1.59065764e+00,\n",
       "        8.14531352e-01,  1.69621460e+00, -1.63536352e+00, -3.55583280e-01,\n",
       "       -4.95027534e-02, -1.69329483e+00, -2.54730828e-01, -1.46113177e+00,\n",
       "        4.41616853e-02,  7.82502998e-01,  1.84902203e-01, -1.58835309e+00,\n",
       "       -2.27260624e+00,  1.13953132e+00, -6.70305892e-01,  1.30289387e-01,\n",
       "        4.45845518e-01,  4.78271710e-02,  3.76590713e-01, -6.76801665e-02,\n",
       "        1.48233529e+00, -1.33606044e-02, -7.00110587e-01,  2.41790537e-01,\n",
       "        1.56898344e+00,  1.42343014e+00, -3.72164044e-01,  6.54825887e-02,\n",
       "        7.70106749e-01,  1.08366600e+00,  1.39027816e+00,  6.33859594e-01,\n",
       "       -6.68350169e-01,  1.08473518e+00, -5.10811569e-01,  1.30109936e-01,\n",
       "       -5.44075531e-03, -1.19996687e+00,  9.12584994e-01,  2.50215190e-01,\n",
       "       -7.01989401e-01,  5.36620733e-01,  1.11720781e+00, -7.12525976e-01,\n",
       "       -4.32548894e-01, -5.44977396e-02,  1.32201055e-02,  7.97852330e-01,\n",
       "       -1.49938426e+00,  2.15620618e-01,  9.70146217e-01,  4.68679019e-01,\n",
       "       -8.41382385e-01,  8.41863058e-01,  6.01480418e-01, -1.26777445e+00,\n",
       "       -1.40843122e+00, -3.35616389e-01,  5.88332031e-01,  1.08376580e+00,\n",
       "       -2.15793976e+00, -1.29092688e+00,  6.83120606e-01, -8.77686361e-02,\n",
       "       -6.91208587e-01,  1.66183757e+00,  9.61194612e-01,  1.08469173e+00,\n",
       "        1.19316725e+00,  2.76547270e-01, -9.86634948e-01, -3.40159411e-01,\n",
       "        7.29968138e-01,  9.79739379e-01,  6.27724434e-01, -6.68602567e-02,\n",
       "        9.95972120e-01, -1.09307150e+00,  8.21965591e-01, -9.98642814e-01,\n",
       "        5.78806088e-01, -9.02168282e-01,  7.04325255e-01, -5.70943044e-01,\n",
       "       -2.13745755e+00,  1.34248824e-01,  1.95506222e-01, -1.24875365e+00,\n",
       "       -8.77569077e-01,  6.12098266e-02,  2.90522365e-01, -4.91789570e-01,\n",
       "       -1.55788557e+00,  6.75072648e-01,  3.72245236e-01,  7.28222124e-02,\n",
       "       -1.28142760e+00,  1.92446739e+00,  2.00965484e+00,  2.93829353e-01,\n",
       "        2.29091550e-01,  1.65110604e+00, -6.73260532e-02, -7.67319231e-01,\n",
       "       -7.05703911e-01, -1.05931440e+00, -9.03621048e-02, -4.63299308e-01,\n",
       "       -5.25823572e-01, -1.14642770e+00, -4.97535729e-02,  1.97909621e+00,\n",
       "       -3.60843204e-01, -1.32774217e+00, -8.66093287e-01, -1.99225038e-02,\n",
       "        1.62381069e-01, -6.85314024e-01, -1.57812071e+00, -1.24791647e+00,\n",
       "        2.52750177e-01,  1.50816213e+00, -6.34162253e-01,  4.50526155e-01,\n",
       "       -5.33205914e-01,  1.02705624e+00,  2.30717828e-01, -8.25531190e-02,\n",
       "        2.30467902e-01, -1.44392142e-01, -5.80765573e-01, -7.76540975e-01,\n",
       "       -3.29434801e-02,  1.21165158e+00, -4.09338195e-01, -9.31006376e-01,\n",
       "        4.71527269e-01, -1.76670740e-01, -2.64304392e+00, -2.70550269e-01,\n",
       "       -1.56807207e-01,  1.14589183e+00,  1.14349687e+00,  5.89390433e-01,\n",
       "        5.01628144e-01, -1.12247503e+00, -8.24893809e-01,  7.32144247e-01,\n",
       "        3.40722438e-01, -1.84813280e+00,  5.97609708e-01, -1.71895855e+00,\n",
       "        7.33393908e-01,  1.53673250e+00, -3.03648546e-01,  8.04488429e-01,\n",
       "        1.60325110e+00, -1.15998172e+00,  8.98767548e-01,  5.80557803e-01,\n",
       "        3.10038854e-01,  1.98476093e-01,  1.88979967e-01,  4.52099016e-01,\n",
       "        5.39328943e-02,  4.97935329e-01,  3.35540014e-01,  8.64991077e-01,\n",
       "       -1.05975383e+00,  3.47540073e-01, -2.85680048e-01, -8.21750734e-01,\n",
       "        8.19576389e-01, -5.03678118e-01,  1.96938979e+00, -1.58590228e+00,\n",
       "       -3.18331730e-01,  6.01040627e-01, -4.65309577e-01,  3.89251139e-01,\n",
       "       -6.29664593e-01,  5.06273413e-02, -1.49739694e+00,  1.77233776e+00,\n",
       "       -9.48201704e-01,  1.24798782e-01,  9.37435725e-01,  2.38917994e-01,\n",
       "        9.62029971e-01,  3.11169052e-01,  1.76663666e+00,  1.16310190e+00,\n",
       "        1.35175503e+00, -1.30933421e+00,  1.14013273e+00,  2.31710461e-02,\n",
       "        1.14946162e-01, -1.57272644e-01, -1.32806784e+00,  8.14870001e-01,\n",
       "       -7.96345157e-01,  6.32748574e-01,  8.93734962e-02,  2.78131215e-02,\n",
       "       -9.75735846e-02, -7.17779671e-01,  5.49338146e-01,  1.55982196e+00,\n",
       "       -1.29289351e+00,  3.66572581e-01,  1.37571292e+00, -7.65463111e-01,\n",
       "       -1.04685916e+00, -9.43346160e-01, -1.83076409e+00,  1.79575375e-01,\n",
       "        3.21939999e-01, -2.19944224e-01,  1.12439797e-01,  3.89505420e-01,\n",
       "        1.42428518e+00,  1.84633028e-01,  1.67356358e+00,  1.69799783e+00,\n",
       "       -9.25181189e-01, -6.58873882e-01,  6.40036784e-01,  7.49184517e-01,\n",
       "       -8.59558833e-01,  5.41473235e-01,  9.53638775e-01,  1.20312376e+00,\n",
       "       -1.67454981e-01,  6.33499424e-01, -7.32074856e-01,  1.78291081e-01,\n",
       "       -6.32373440e-01,  1.04733332e+00,  1.26516474e+00,  6.12751793e-01,\n",
       "        1.13984009e+00, -1.50910042e+00,  6.99206026e-01, -1.24814701e+00,\n",
       "       -3.40868032e-01,  7.44194122e-01, -2.05184228e-01,  5.14159341e-03,\n",
       "       -1.60971737e+00,  1.38587532e+00,  1.36739822e+00,  1.41885762e+00,\n",
       "       -4.76216421e-01, -6.74327995e-01,  1.98669235e-01,  9.15997509e-01,\n",
       "       -1.26221380e+00,  8.31882285e-01,  2.19962234e+00,  5.72876858e-01,\n",
       "        4.58307741e-01,  3.24055634e-01, -1.31712636e+00,  7.16988742e-01,\n",
       "       -2.12649174e-01,  2.64656853e+00,  3.27331906e-01, -2.94381668e-01,\n",
       "       -3.48169449e-01,  3.89977802e-02,  1.12750604e+00, -9.84381571e-01,\n",
       "        1.58520477e+00, -1.70624376e+00,  2.54456481e-02,  2.89232889e-01,\n",
       "       -7.34215988e-01,  2.13528844e-01, -1.90887896e+00, -8.06873432e-01,\n",
       "       -2.74804821e-01, -6.02761978e-01,  5.64826590e-01,  4.96054046e-01,\n",
       "        7.33475449e-01, -5.32430929e-01, -1.34809606e+00, -9.03928933e-01,\n",
       "       -2.58334266e-01,  5.74929243e-01, -1.79936669e+00,  2.18421447e+00,\n",
       "        4.91347087e-01, -7.39920805e-01, -3.27885354e-01, -2.16716737e-01,\n",
       "       -1.73217562e+00,  4.00445378e-02,  1.65565707e+00,  6.08065018e-01,\n",
       "       -9.08473667e-01,  2.37970019e-01, -1.59182878e+00,  1.15366783e+00,\n",
       "       -5.30684964e-03, -6.19796933e-01,  1.67289020e+00, -1.00553543e-01,\n",
       "       -2.50409573e-01,  1.18614365e+00,  6.92200392e-01,  2.00358025e+00,\n",
       "       -7.45629076e-01, -5.34026123e-01,  3.25049736e-01,  5.59110790e-01,\n",
       "        1.40884775e+00,  1.14518046e-02,  1.99107590e-01, -7.95182061e-01,\n",
       "       -2.03004396e+00,  1.87809345e-01,  1.31431544e+00,  8.04919567e-01,\n",
       "        1.94170352e+00, -5.63159228e-01, -2.38873170e+00, -1.79655084e-01,\n",
       "        5.14306717e-01,  4.29871798e-01,  1.42768148e-01,  5.12015757e-01,\n",
       "       -3.97737470e-01,  6.83660500e-01,  5.18749647e-01, -6.89797858e-01,\n",
       "        1.20632811e+00,  2.55759307e-01,  1.06394514e+00, -1.32523708e+00,\n",
       "        3.11526057e-02, -4.21912206e-01, -6.09213012e-02,  2.65604224e+00,\n",
       "        7.68897446e-01,  1.48457601e-01, -2.33674110e-01,  4.88634181e-01,\n",
       "       -2.91983077e-01, -1.42201303e+00, -6.10944285e-02,  4.20430905e-01,\n",
       "        2.61801008e-01, -3.62929334e-01,  9.49342745e-01, -5.98293055e-02,\n",
       "       -8.66504744e-01,  7.96410441e-01, -1.54464256e+00,  3.44612318e-01,\n",
       "       -5.08617489e-02,  1.97871011e+00, -1.43535557e+00, -7.32451843e-03,\n",
       "        6.31717132e-01,  4.68276742e-01, -4.29267039e-01, -6.86245348e-01,\n",
       "        1.23914090e+00, -8.95371681e-01, -1.82077142e-01,  4.09904496e-01,\n",
       "        8.99215916e-01,  1.33435024e+00,  1.62188804e-01,  1.09883193e+00,\n",
       "       -1.12471344e+00, -8.48806250e-01, -2.87320783e-01,  1.13790832e+00,\n",
       "        4.81493609e-01,  1.40644862e+00, -5.75631776e-01, -1.12387409e+00,\n",
       "       -8.32097870e-01,  1.13388176e+00,  6.22413384e-01,  3.65298021e-02,\n",
       "        1.21622596e+00,  1.32654801e-01,  5.78215596e-01, -2.20706731e+00,\n",
       "       -2.22614757e-01,  1.02921371e+00, -1.60165419e-01,  3.45932157e-01,\n",
       "        7.19010140e-01, -2.58541603e-01, -4.12495246e-01,  6.61515064e-01,\n",
       "       -2.84351475e-01, -9.91571742e-01,  1.49776599e+00,  5.19547540e-01,\n",
       "        1.49441299e-01, -8.63654191e-01, -2.29594360e+00,  7.39429213e-03,\n",
       "       -7.98421313e-01,  1.66471821e-01, -1.09593153e+00, -4.23679371e-01,\n",
       "        4.63779585e-01, -1.09810968e+00, -7.60347541e-01,  6.13792607e-01,\n",
       "       -7.72284009e-01,  4.00244759e-01, -2.00361243e-03,  2.64603627e-01,\n",
       "       -2.08081583e+00, -1.15438363e+00,  2.39612824e-01,  1.29993163e-01,\n",
       "       -1.76009596e-01, -9.15479766e-01,  1.82178680e+00, -1.79856710e+00,\n",
       "       -1.88662962e-02, -6.43030928e-02, -4.76205571e-01,  1.55475639e+00,\n",
       "        1.87000768e+00, -1.33965336e+00,  3.95057081e-02,  1.67493330e+00,\n",
       "        6.42997305e-02,  1.17288541e+00,  4.85343839e-01, -3.05743559e-01,\n",
       "        2.10328975e+00,  9.90630012e-01, -5.09265943e-01, -3.22563229e-02,\n",
       "        1.64424178e+00,  1.21603053e-01, -6.08048060e-01,  1.46204376e+00,\n",
       "       -8.32607650e-03, -4.05147090e-01,  2.24987306e+00, -2.22541638e+00,\n",
       "        9.42654374e-01,  8.50906235e-01,  1.44314161e+00,  1.63193872e-01,\n",
       "        8.16216950e-01,  2.83033059e-01, -1.36718835e+00,  1.07896680e+00,\n",
       "       -7.01265440e-01, -1.63384170e+00, -1.07238925e-01,  1.48351804e+00,\n",
       "        7.70184017e-01, -1.29532712e+00, -1.92117192e-01, -3.21868547e-01,\n",
       "       -5.96073042e-01,  3.12613056e-01, -4.51276992e-01,  1.06404743e+00,\n",
       "       -2.39465402e-02, -4.66521188e-01,  5.04901747e-01, -4.62772537e-01,\n",
       "       -8.65027105e-01, -6.91970168e-01, -1.36832191e+00,  5.03767657e-01,\n",
       "        1.12255027e+00,  5.71242131e-01, -2.88243798e-01,  9.01394466e-01,\n",
       "       -1.76150794e+00,  3.48847785e-01,  1.02046401e+00, -2.65984366e-01,\n",
       "        1.68114905e+00,  5.21898788e-01, -2.24694244e-01,  9.99508663e-01,\n",
       "       -2.17698357e+00,  1.30314327e+00,  1.97475031e-01, -6.29069281e-01,\n",
       "        1.84396188e+00,  1.30261654e-01, -3.37049681e-01,  3.55155184e-01,\n",
       "       -9.88597776e-01,  1.68818257e+00,  2.33969500e-01,  5.14787580e-02,\n",
       "       -1.91085961e+00, -1.52131327e+00,  1.25830488e+00, -5.61565172e-01,\n",
       "       -1.02290679e-01,  8.93183964e-01, -1.06365039e+00, -1.53715225e+00,\n",
       "       -4.78568281e-01, -1.37043817e+00, -2.36181778e+00, -4.25299023e-02,\n",
       "       -2.33817779e-01, -1.43494336e-01,  3.89051247e-01, -9.22745361e-01,\n",
       "        6.74173780e-01, -7.04772024e-02,  1.35839317e+00,  5.27936673e-01,\n",
       "       -1.00924707e+00,  2.37731602e-01, -1.06438777e+00, -1.20204127e+00,\n",
       "       -1.16458161e+00, -5.96060595e-01, -1.55137306e+00,  2.99916797e-01,\n",
       "       -1.34409382e+00,  9.35355329e-01, -8.00215357e-01, -1.58618763e-01,\n",
       "       -1.09104677e+00, -5.03995505e-01,  1.04169769e+00,  1.52135721e+00,\n",
       "        7.43750281e-01,  1.03426979e+00,  9.89451841e-01,  1.77517267e-01,\n",
       "        7.53731314e-01,  8.56751842e-01, -2.50057707e-01,  7.97646811e-01,\n",
       "        2.36036922e+00, -1.92092500e+00,  9.36222710e-01,  2.26015012e+00,\n",
       "       -2.75693967e-02,  8.14537740e-01, -2.12305499e+00,  2.26024154e+00,\n",
       "       -2.36606213e-01, -2.64908157e-02,  1.15868333e+00, -2.45041511e-01,\n",
       "        1.17299644e+00, -6.92626703e-03, -1.01945386e-01, -1.47199003e+00,\n",
       "        3.82119384e-01, -3.93054374e-01, -4.15871320e-01, -5.29844268e-01,\n",
       "        4.09726605e-01, -9.04439738e-02,  8.32043407e-01,  7.11110741e-02,\n",
       "       -1.37321286e+00,  3.60084227e-01, -2.35770350e+00, -1.38918144e+00,\n",
       "        5.40943493e-01, -7.25469739e-01,  1.41218842e+00, -9.42929423e-01,\n",
       "        1.87587733e+00, -3.15867936e-02,  4.49161106e-01, -6.24261021e-01,\n",
       "        1.08457655e+00,  1.24498130e+00,  1.19024230e-01,  2.22993099e-01,\n",
       "       -8.41859710e-01, -1.12029159e+00,  3.83161703e-01,  1.14482283e+00,\n",
       "       -1.54947790e-01,  9.03027075e-01, -7.18939246e-01, -2.53962824e-01,\n",
       "       -5.23264554e-02, -9.82833006e-01, -5.88762623e-02,  3.78834651e-01,\n",
       "       -8.33344562e-01, -2.83276017e-01,  3.52084383e-01, -2.14060462e+00,\n",
       "       -1.64919999e+00, -8.42111329e-01, -1.87729237e-01, -1.41349224e+00,\n",
       "       -1.29248330e+00, -1.02201796e+00, -1.27416757e+00,  1.93105868e+00,\n",
       "        2.14146541e-01,  6.09269462e-01, -1.92452009e-01,  1.05693685e+00,\n",
       "        2.85359887e-01, -6.05684241e-01,  8.21206975e-02, -1.02523569e+00,\n",
       "        1.13262097e+00,  1.11095200e+00, -1.07193829e-01,  1.42519255e+00,\n",
       "        3.80020252e-02, -9.73011880e-01,  1.63124776e-01,  7.65826116e-01,\n",
       "       -4.49382202e-01, -1.26971513e+00, -5.05897235e-01,  1.09832365e+00,\n",
       "       -4.83058042e-01,  4.69363034e-01, -2.78731246e-01, -1.26565578e+00,\n",
       "       -4.92463659e-01,  1.04351188e+00, -7.67199337e-01,  1.84944658e+00,\n",
       "       -1.75318471e+00, -2.06088926e-01,  2.41392382e-01, -3.74983928e-01,\n",
       "        4.56334417e-01, -3.57638379e-01,  4.41548822e-01,  1.54434217e+00,\n",
       "       -2.59785019e-01,  1.66794850e+00,  2.21710777e+00,  1.35914641e+00,\n",
       "       -3.56420024e-01,  1.43952940e-02, -7.22365447e-01,  2.57806268e+00,\n",
       "       -7.30593530e-01, -1.13971090e+00, -6.51842794e-01,  1.21579031e+00,\n",
       "        7.17704969e-02,  8.29529616e-01,  4.62368411e-01, -4.75585163e-01,\n",
       "       -9.61887180e-01, -1.48648867e+00,  3.85796961e-01,  2.33021553e-02,\n",
       "       -1.46006546e+00,  2.10539504e-01,  9.16142505e-02, -5.01468237e-02,\n",
       "        1.59733387e+00, -9.28944956e-01, -1.81501379e+00,  8.61779603e-01,\n",
       "        6.61259151e-01, -9.78388101e-02, -2.45198559e-01,  1.39664484e+00,\n",
       "       -1.14478559e+00, -7.53484196e-01,  7.59937881e-01, -8.77877446e-01,\n",
       "        3.39842622e-01, -1.14405081e+00, -1.44094210e+00, -7.51541451e-01,\n",
       "       -5.04943360e-01,  4.80430823e-01, -5.35198372e-02,  1.46592504e+00,\n",
       "        4.17613853e-01, -8.41244687e-01, -6.98840708e-01,  1.08696888e+00,\n",
       "        8.98182531e-01, -3.83029398e-01, -1.78234439e+00, -9.06917287e-01,\n",
       "        5.45191059e-01, -7.46039268e-01,  1.94912965e-01, -2.88418683e-01,\n",
       "       -1.00932741e-01,  1.06285065e+00,  4.68883600e-01, -5.60316852e-01,\n",
       "       -2.65382465e-01,  1.03867292e-01, -4.95006558e-01,  6.09871184e-01,\n",
       "        4.66634351e-01, -1.74429522e+00,  3.40813850e-01,  1.22811290e+00,\n",
       "        2.75198383e-01,  9.69699164e-01,  4.31371851e-01,  6.76985775e-01,\n",
       "       -7.56112184e-01,  4.91955280e-01,  7.04048403e-01,  8.78123189e-02,\n",
       "        6.05618701e-01,  5.66567823e-01,  1.09434193e+00, -3.68529689e-01,\n",
       "        3.99595281e-01, -1.24745151e+00, -1.80733984e+00, -1.66055095e+00,\n",
       "       -1.40736340e-01, -3.98948772e-01,  8.58819390e-01, -3.27098905e-01,\n",
       "        9.24222737e-02,  1.52145435e+00,  1.47423401e+00,  1.66723505e-01])"
      ]
     },
     "execution_count": 19,
     "metadata": {},
     "output_type": "execute_result"
    }
   ],
   "source": [
    "a"
   ]
  },
  {
   "cell_type": "code",
   "execution_count": 20,
   "metadata": {},
   "outputs": [
    {
     "data": {
      "text/plain": [
       "(array([ 11.,  29.,  94., 188., 243., 220., 150.,  51.,   9.,   5.]),\n",
       " array([-3.07527764, -2.42796049, -1.78064334, -1.13332618, -0.48600903,\n",
       "         0.16130812,  0.80862527,  1.45594242,  2.10325958,  2.75057673,\n",
       "         3.39789388]),\n",
       " <a list of 10 Patch objects>)"
      ]
     },
     "execution_count": 20,
     "metadata": {},
     "output_type": "execute_result"
    },
    {
     "data": {
      "image/png": "[encoded data removed]",
      "text/plain": [
       "<Figure size 432x288 with 1 Axes>"
      ]
     },
     "metadata": {
      "needs_background": "light"
     },
     "output_type": "display_data"
    }
   ],
   "source": [
    "fig,axes = plt.subplots(1, 1)\n",
    "axes.hist(np.random.randn(1000))"
   ]
  },
  {
   "cell_type": "code",
   "execution_count": 20,
   "metadata": {},
   "outputs": [
    {
     "data": {
      "text/plain": [
       "(array([  4.,   0.,  10.,  11.,  19.,  33.,  52.,  84., 116., 111., 133.,\n",
       "        133.,  98.,  71.,  63.,  23.,  21.,  11.,   5.,   2.]),\n",
       " array([-3.20336921, -2.89223664, -2.58110407, -2.2699715 , -1.95883893,\n",
       "        -1.64770636, -1.33657379, -1.02544122, -0.71430865, -0.40317608,\n",
       "        -0.09204351,  0.21908906,  0.53022163,  0.8413542 ,  1.15248677,\n",
       "         1.46361934,  1.77475191,  2.08588448,  2.39701705,  2.70814962,\n",
       "         3.01928219]),\n",
       " <a list of 20 Patch objects>)"
      ]
     },
     "execution_count": 20,
     "metadata": {},
     "output_type": "execute_result"
    },
    {
     "data": {
      "image/png": "[encoded data removed]",
      "text/plain": [
       "<Figure size 432x288 with 1 Axes>"
      ]
     },
     "metadata": {
      "needs_background": "light"
     },
     "output_type": "display_data"
    }
   ],
   "source": [
    "plt.hist(a,20)"
   ]
  },
  {
   "cell_type": "code",
   "execution_count": 24,
   "metadata": {},
   "outputs": [],
   "source": [
    "histvalue,histbin=np.histogram(a)"
   ]
  },
  {
   "cell_type": "code",
   "execution_count": 25,
   "metadata": {},
   "outputs": [
    {
     "data": {
      "text/plain": [
       "array([-3.20336921, -2.58110407, -1.95883893, -1.33657379, -0.71430865,\n",
       "       -0.09204351,  0.53022163,  1.15248677,  1.77475191,  2.39701705,\n",
       "        3.01928219])"
      ]
     },
     "execution_count": 25,
     "metadata": {},
     "output_type": "execute_result"
    }
   ],
   "source": [
    "histbin"
   ]
  },
  {
   "cell_type": "code",
   "execution_count": 26,
   "metadata": {},
   "outputs": [
    {
     "data": {
      "text/plain": [
       "array([  4,  21,  52, 136, 227, 266, 169,  86,  32,   7])"
      ]
     },
     "execution_count": 26,
     "metadata": {},
     "output_type": "execute_result"
    }
   ],
   "source": [
    "histvalue"
   ]
  },
  {
   "cell_type": "code",
   "execution_count": 27,
   "metadata": {},
   "outputs": [
    {
     "data": {
      "text/plain": [
       "11"
      ]
     },
     "execution_count": 27,
     "metadata": {},
     "output_type": "execute_result"
    }
   ],
   "source": [
    "len(histbin)"
   ]
  },
  {
   "cell_type": "code",
   "execution_count": 28,
   "metadata": {},
   "outputs": [
    {
     "data": {
      "text/plain": [
       "10"
      ]
     },
     "execution_count": 28,
     "metadata": {},
     "output_type": "execute_result"
    }
   ],
   "source": [
    "len(histvalue)"
   ]
  },
  {
   "cell_type": "code",
   "execution_count": 29,
   "metadata": {},
   "outputs": [
    {
     "data": {
      "text/plain": [
       "[<matplotlib.lines.Line2D at 0x7fbf41fb4eb8>]"
      ]
     },
     "execution_count": 29,
     "metadata": {},
     "output_type": "execute_result"
    },
    {
     "data": {
      "image/png": "[encoded data removed]",
      "text/plain": [
       "<Figure size 432x288 with 1 Axes>"
      ]
     },
     "metadata": {
      "needs_background": "light"
     },
     "output_type": "display_data"
    }
   ],
   "source": [
    "plt.plot(histbin[:-1],histvalue)"
   ]
  },
  {
   "cell_type": "code",
   "execution_count": 30,
   "metadata": {},
   "outputs": [
    {
     "data": {
      "text/plain": [
       "<matplotlib.collections.PathCollection at 0x7fbf41f0eeb8>"
      ]
     },
     "execution_count": 30,
     "metadata": {},
     "output_type": "execute_result"
    },
    {
     "data": {
      "image/png": "[encoded data removed]",
      "text/plain": [
       "<Figure size 432x288 with 1 Axes>"
      ]
     },
     "metadata": {
      "needs_background": "light"
     },
     "output_type": "display_data"
    }
   ],
   "source": [
    "plt.scatter(histbin[:-1],histvalue)"
   ]
  },
  {
   "cell_type": "code",
   "execution_count": 38,
   "metadata": {},
   "outputs": [],
   "source": [
    "histvalue = np.concatenate(([histvalue[0]],histvalue))"
   ]
  },
  {
   "cell_type": "code",
   "execution_count": 41,
   "metadata": {},
   "outputs": [
    {
     "data": {
      "text/plain": [
       "[<matplotlib.lines.Line2D at 0x7fbf422d2a20>]"
      ]
     },
     "execution_count": 41,
     "metadata": {},
     "output_type": "execute_result"
    },
    {
     "data": {
      "image/png": "[encoded data removed]",
      "text/plain": [
       "<Figure size 432x288 with 1 Axes>"
      ]
     },
     "metadata": {},
     "output_type": "display_data"
    }
   ],
   "source": [
    "plt.plot(histbin,histvalue,ls='steps')"
   ]
  },
  {
   "cell_type": "code",
   "execution_count": 5,
   "metadata": {},
   "outputs": [],
   "source": [
    "X = stats.norm(1.0,0.5)"
   ]
  },
  {
   "cell_type": "code",
   "execution_count": 93,
   "metadata": {},
   "outputs": [
    {
     "data": {
      "text/plain": [
       "<scipy.stats._distn_infrastructure.rv_frozen at 0x7ff802387dd8>"
      ]
     },
     "execution_count": 93,
     "metadata": {},
     "output_type": "execute_result"
    }
   ],
   "source": [
    "X"
   ]
  },
  {
   "cell_type": "code",
   "execution_count": 6,
   "metadata": {},
   "outputs": [
    {
     "data": {
      "text/plain": [
       "1.0"
      ]
     },
     "execution_count": 6,
     "metadata": {},
     "output_type": "execute_result"
    }
   ],
   "source": [
    "X.mean()"
   ]
  },
  {
   "cell_type": "code",
   "execution_count": 7,
   "metadata": {},
   "outputs": [
    {
     "data": {
      "text/plain": [
       "0.5"
      ]
     },
     "execution_count": 7,
     "metadata": {},
     "output_type": "execute_result"
    }
   ],
   "source": [
    "X.std()"
   ]
  },
  {
   "cell_type": "code",
   "execution_count": 75,
   "metadata": {},
   "outputs": [
    {
     "data": {
      "text/plain": [
       "0.25"
      ]
     },
     "execution_count": 75,
     "metadata": {},
     "output_type": "execute_result"
    }
   ],
   "source": [
    "X.var()"
   ]
  },
  {
   "cell_type": "code",
   "execution_count": 76,
   "metadata": {},
   "outputs": [
    {
     "data": {
      "text/plain": [
       "[1.0, 1.0, 1.25, 1.75, 2.6875]"
      ]
     },
     "execution_count": 76,
     "metadata": {},
     "output_type": "execute_result"
    }
   ],
   "source": [
    "[X.moment(n) for n in range(5)]"
   ]
  },
  {
   "cell_type": "code",
   "execution_count": 77,
   "metadata": {},
   "outputs": [
    {
     "data": {
      "text/plain": [
       "(array(1.), array(0.25))"
      ]
     },
     "execution_count": 77,
     "metadata": {},
     "output_type": "execute_result"
    }
   ],
   "source": [
    "X.stats()"
   ]
  },
  {
   "cell_type": "code",
   "execution_count": 78,
   "metadata": {},
   "outputs": [
    {
     "data": {
      "text/plain": [
       "array([0.10798193, 0.79788456, 0.10798193])"
      ]
     },
     "execution_count": 78,
     "metadata": {},
     "output_type": "execute_result"
    }
   ],
   "source": [
    "X.pdf([0,1,2])"
   ]
  },
  {
   "cell_type": "code",
   "execution_count": 9,
   "metadata": {},
   "outputs": [
    {
     "data": {
      "text/plain": [
       "array([1.43989244e-107, 2.27501319e-002, 5.00000000e-001, 9.77249868e-001,\n",
       "       1.00000000e+000])"
      ]
     },
     "execution_count": 9,
     "metadata": {},
     "output_type": "execute_result"
    }
   ],
   "source": [
    "X.cdf([-10,0,1,2,20])"
   ]
  },
  {
   "cell_type": "code",
   "execution_count": 10,
   "metadata": {},
   "outputs": [
    {
     "data": {
      "text/plain": [
       "<matplotlib.legend.Legend at 0x7f790cec76a0>"
      ]
     },
     "execution_count": 10,
     "metadata": {},
     "output_type": "execute_result"
    },
    {
     "data": {
      "image/png": "[encoded data removed]",
      "text/plain": [
       "<Figure size 432x288 with 1 Axes>"
      ]
     },
     "metadata": {
      "needs_background": "light"
     },
     "output_type": "display_data"
    }
   ],
   "source": [
    "x = np.linspace(-2,5,101)\n",
    "plt.plot(x, X.pdf(x),label='pdf')\n",
    "plt.plot(x, X.cdf(x),label='cdf')\n",
    "plt.legend()"
   ]
  },
  {
   "cell_type": "code",
   "execution_count": 11,
   "metadata": {},
   "outputs": [
    {
     "data": {
      "text/plain": [
       "<BarContainer object of 20 artists>"
      ]
     },
     "execution_count": 11,
     "metadata": {},
     "output_type": "execute_result"
    },
    {
     "data": {
      "image/png": "[encoded data removed]",
      "text/plain": [
       "<Figure size 432x288 with 1 Axes>"
      ]
     },
     "metadata": {
      "needs_background": "light"
     },
     "output_type": "display_data"
    }
   ],
   "source": [
    "X = stats.poisson(10)\n",
    "x = np.arange(20)\n",
    "plt.bar(x, X.pmf(x))"
   ]
  },
  {
   "cell_type": "code",
   "execution_count": 12,
   "metadata": {},
   "outputs": [
    {
     "data": {
      "text/plain": [
       "<BarContainer object of 20 artists>"
      ]
     },
     "execution_count": 12,
     "metadata": {},
     "output_type": "execute_result"
    },
    {
     "data": {
      "image/png": "[encoded data removed]",
      "text/plain": [
       "<Figure size 432x288 with 1 Axes>"
      ]
     },
     "metadata": {
      "needs_background": "light"
     },
     "output_type": "display_data"
    }
   ],
   "source": [
    "X = stats.poisson(10)\n",
    "x = np.arange(20)\n",
    "plt.bar(x, X.cdf(x))"
   ]
  },
  {
   "cell_type": "code",
   "execution_count": 13,
   "metadata": {},
   "outputs": [
    {
     "data": {
      "text/plain": [
       "[<matplotlib.lines.Line2D at 0x7f790cd06e10>]"
      ]
     },
     "execution_count": 13,
     "metadata": {},
     "output_type": "execute_result"
    },
    {
     "data": {
      "image/png": "[encoded data removed]",
      "text/plain": [
       "<Figure size 432x288 with 1 Axes>"
      ]
     },
     "metadata": {
      "needs_background": "light"
     },
     "output_type": "display_data"
    }
   ],
   "source": [
    "\n",
    "\n",
    "X = stats.poisson(10)\n",
    "x = np.arange(20)\n",
    "plt.plot(x, X.cdf(x))\n",
    "\n"
   ]
  },
  {
   "cell_type": "code",
   "execution_count": 14,
   "metadata": {},
   "outputs": [
    {
     "data": {
      "text/plain": [
       "[<matplotlib.lines.Line2D at 0x7f790cce4908>]"
      ]
     },
     "execution_count": 14,
     "metadata": {},
     "output_type": "execute_result"
    },
    {
     "data": {
      "image/png": "[encoded data removed]",
      "text/plain": [
       "<Figure size 432x288 with 1 Axes>"
      ]
     },
     "metadata": {
      "needs_background": "light"
     },
     "output_type": "display_data"
    }
   ],
   "source": [
    "X = stats.poisson(10)\n",
    "x = np.linspace(1,20,300)\n",
    "plt.plot(x, X.cdf(x))"
   ]
  },
  {
   "cell_type": "code",
   "execution_count": 15,
   "metadata": {},
   "outputs": [
    {
     "data": {
      "text/plain": [
       "Text(0, 0.5, 'Poisson dist.')"
      ]
     },
     "execution_count": 15,
     "metadata": {},
     "output_type": "execute_result"
    },
    {
     "data": {
      "image/png": "[encoded data removed]",
      "text/plain": [
       "<Figure size 864x648 with 9 Axes>"
      ]
     },
     "metadata": {
      "needs_background": "light"
     },
     "output_type": "display_data"
    }
   ],
   "source": [
    "def plot_rv_distribution(X, axes=None):\n",
    "    \"\"\"Plot the PDF or PMF, CDF, SF and PPF of a given random\n",
    "    variable\"\"\"\n",
    "    if axes is None:\n",
    "        fig, axes = plt.subplots(1, 3, figsize=(12, 3))\n",
    "    x_min_999, x_max_999 = X.interval(0.999)\n",
    "    x999 = np.linspace(x_min_999, x_max_999, 1000)\n",
    "    x_min_95, x_max_95 = X.interval(0.95)\n",
    "    x95 = np.linspace(x_min_95, x_max_95, 1000)\n",
    "    if hasattr(X.dist, \"pdf\"):\n",
    "        axes[0].plot(x999, X.pdf(x999), label=\"PDF\")\n",
    "        axes[0].fill_between(x95, X.pdf(x95), alpha=0.25)\n",
    "    else:\n",
    "        # discrete random variables do not have a pdf method,\n",
    "        #instead we use pmf:\n",
    "        x999_int = np.unique(x999.astype(int))\n",
    "        axes[0].bar(x999_int, X.pmf(x999_int), label=\"PMF\")\n",
    "    axes[1].plot(x999, X.cdf(x999), label=\"CDF\")\n",
    "    axes[1].plot(x999, X.sf(x999), label=\"SF\")\n",
    "    axes[2].plot(x999, X.ppf(x999), label=\"PPF\")\n",
    "    for ax in axes:\n",
    "        ax.legend()\n",
    "\n",
    "fig, axes = plt.subplots(3, 3, figsize=(12, 9))\n",
    "\n",
    "X = stats.norm()\n",
    "\n",
    "plot_rv_distribution(X, axes=axes[0, :])\n",
    "\n",
    "axes[0, 0].set_ylabel(\"Normal dist.\")\n",
    "\n",
    "X = stats.f(2, 50)\n",
    "\n",
    "plot_rv_distribution(X, axes=axes[1, :])\n",
    "\n",
    "axes[1, 0].set_ylabel(\"F dist.\")\n",
    "\n",
    "X = stats.poisson(5)\n",
    "\n",
    "plot_rv_distribution(X, axes=axes[2, :])\n",
    "\n",
    "axes[2, 0].set_ylabel(\"Poisson dist.\")"
   ]
  },
  {
   "cell_type": "code",
   "execution_count": null,
   "metadata": {},
   "outputs": [],
   "source": []
  }
 ],
 "metadata": {
  "kernelspec": {
   "display_name": "Python 3",
   "language": "python",
   "name": "python3"
  },
  "language_info": {
   "codemirror_mode": {
    "name": "ipython",
    "version": 3
   },
   "file_extension": ".py",
   "mimetype": "text/x-python",
   "name": "python",
   "nbconvert_exporter": "python",
   "pygments_lexer": "ipython3",
   "version": "3.6.7"
  }
 },
 "nbformat": 4,
 "nbformat_minor": 2
}
