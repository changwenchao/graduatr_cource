{
 "cells": [
  {
   "cell_type": "code",
   "execution_count": 2,
   "metadata": {},
   "outputs": [],
   "source": [
    "import pandas as pd\n",
    "import matplotlib.pyplot as plt"
   ]
  },
  {
   "cell_type": "code",
   "execution_count": 8,
   "metadata": {},
   "outputs": [],
   "source": [
    "hdu =pd.read_csv('C:/Users/Primary Magnetism/Desktop/工作簿.csv')"
   ]
  },
  {
   "cell_type": "code",
   "execution_count": 9,
   "metadata": {},
   "outputs": [
    {
     "name": "stdout",
     "output_type": "stream",
     "text": [
      "<class 'pandas.core.frame.DataFrame'>\n",
      "RangeIndex: 224 entries, 0 to 223\n",
      "Data columns (total 7 columns):\n",
      "Lambda     224 non-null float64\n",
      "El.        224 non-null object\n",
      "E.P.       224 non-null float64\n",
      "log(gf)    224 non-null float64\n",
      "f6         224 non-null float64\n",
      "E.W.       224 non-null float64\n",
      "log(A)     224 non-null float64\n",
      "dtypes: float64(6), object(1)\n",
      "memory usage: 12.3+ KB\n"
     ]
    }
   ],
   "source": [
    "hdu.info()"
   ]
  },
  {
   "cell_type": "code",
   "execution_count": 10,
   "metadata": {},
   "outputs": [
    {
     "name": "stdout",
     "output_type": "stream",
     "text": [
      "       Lambda  El.  E.P.  log(gf)   f6   E.W.  log(A)\n",
      "0    4934.086  BA2  0.00   -0.160  1.4  102.0   1.505\n",
      "1    6496.908  BA2  0.60   -0.407  3.0   46.9   1.037\n",
      "2    6141.730  BA2  0.70   -0.070  3.0   57.6   1.015\n",
      "3    4425.441  CA1  1.88   -0.360  1.5   78.7   5.147\n",
      "4    4434.957  CA1  1.89   -0.005  1.5  105.8   5.221\n",
      "5    6122.219  CA1  1.89   -0.320  2.3  106.1   5.305\n",
      "6    4455.887  CA1  1.90   -0.530  1.4   78.7   5.339\n",
      "7    4454.780  CA1  1.90    0.258  1.5  128.5   5.256\n",
      "8    6493.780  CA1  2.52   -0.109  0.8   63.6   5.139\n",
      "9    5265.557  CA1  2.52   -0.113  1.8   61.2   5.124\n",
      "10   5262.244  CA1  2.52   -0.471  1.8   48.0   5.282\n",
      "11   5581.971  CA1  2.52   -0.555  1.8   42.9   5.269\n",
      "12   6499.649  CA1  2.52   -0.818  0.8   31.0   5.292\n",
      "13   5594.468  CA1  2.52    0.097  1.8   74.6   5.091\n",
      "14   6462.566  CA1  2.52    0.262  1.4  103.4   5.312\n",
      "15   6471.660  CA1  2.53   -0.686  0.8   40.6   5.349\n",
      "16   5588.757  CA1  2.53    0.358  1.8   85.6   4.994\n",
      "17   6439.073  CA1  2.53    0.390  1.5   93.8   5.056\n",
      "18   4878.132  CA1  2.71   -0.164  1.4  100.2   5.941\n",
      "19   4580.056  CR1  0.94   -1.650  2.5   16.4   4.246\n",
      "20   5206.040  CR1  0.94    0.020  2.5   90.9   3.903\n",
      "21   5208.420  CR1  0.94    0.170  1.4  116.8   4.269\n",
      "22   5247.564  CR1  0.96   -1.640  2.5   12.3   4.054\n",
      "23   4616.137  CR1  0.98   -1.190  2.5   32.6   4.214\n",
      "24   4652.150  CR1  1.00   -1.040  2.5   43.9   4.289\n",
      "25   4600.740  CR1  1.00   -1.250  2.5   30.4   4.251\n",
      "26   4600.752  CR1  1.00   -1.260  2.5   30.4   4.261\n",
      "27   4646.150  CR1  1.03   -0.740  2.5   52.2   4.162\n",
      "28   5166.282  FE1  0.00   -4.195  1.0   45.8   6.119\n",
      "29   4427.310  FE1  0.05   -2.924  1.4   92.3   5.945\n",
      "..        ...  ...   ...      ...  ...    ...     ...\n",
      "194  5210.384  TI1  0.05   -0.820  1.5   50.2   3.987\n",
      "195  5064.651  TI1  0.05   -0.940  1.5   39.3   3.933\n",
      "196  4681.909  TI1  0.05   -1.020  1.4   32.4   3.925\n",
      "197  5007.209  TI1  0.82    0.170  1.4   80.1   4.320\n",
      "198  4518.021  TI1  0.83   -0.250  1.5   24.9   3.784\n",
      "199  4999.501  TI1  0.83    0.320  1.5   56.1   3.748\n",
      "200  5020.024  TI1  0.84   -0.330  1.4   22.7   3.774\n",
      "201  4991.066  TI1  0.84    0.450  1.5   59.2   3.682\n",
      "202  4533.239  TI1  0.85    0.540  1.5   61.4   3.701\n",
      "203  5036.463  TI1  1.44    0.186  1.4   25.3   3.909\n",
      "204  5035.902  TI1  1.46    0.260  1.4   28.9   3.934\n",
      "205  4443.801  TI2  1.08   -0.710  2.5   93.2   3.908\n",
      "206  4450.482  TI2  1.08   -1.520  1.4   58.8   4.083\n",
      "207  4501.270  TI2  1.12   -0.770  1.5   91.9   4.025\n",
      "208  4444.554  TI2  1.12   -2.200  2.5   31.5   4.274\n",
      "209  4468.493  TI2  1.13   -0.630  2.5   95.6   3.914\n",
      "210  4464.450  TI2  1.16   -1.810  2.5   43.2   4.147\n",
      "211  4417.719  TI2  1.17   -1.190  2.5   49.2   3.651\n",
      "212  4533.972  TI2  1.24   -0.770  1.5   84.4   3.984\n",
      "213  4399.765  TI2  1.24   -1.200  1.5   54.4   3.838\n",
      "214  4589.915  TI2  1.24   -1.790  2.5   47.6   4.274\n",
      "215  4418.331  TI2  1.24   -1.990  1.4   33.7   4.231\n",
      "216  4708.651  TI2  1.24   -2.370  2.5   16.2   4.157\n",
      "217  4571.971  TI2  1.57   -0.310  2.5   89.6   3.884\n",
      "218  5226.543  TI2  1.57   -1.230  1.4   55.0   4.124\n",
      "219  5154.070  TI2  1.57   -1.780  2.5   23.1   4.046\n",
      "220  5129.156  TI2  1.88   -1.340  2.5   31.0   4.083\n",
      "221  5185.902  TI2  1.89   -1.350  2.5   30.6   4.091\n",
      "222  4779.979  TI2  2.05   -1.370  1.5   25.1   4.169\n",
      "223  4805.085  TI2  2.06   -0.960  1.4   40.5   4.091\n",
      "\n",
      "[224 rows x 7 columns]\n"
     ]
    }
   ],
   "source": [
    "print(hdu)"
   ]
  },
  {
   "cell_type": "code",
   "execution_count": 13,
   "metadata": {},
   "outputs": [],
   "source": [
    "x =hdu['E.P.']\n",
    "y =hdu['log(A)']"
   ]
  },
  {
   "cell_type": "code",
   "execution_count": 36,
   "metadata": {},
   "outputs": [
    {
     "data": {
      "image/png": "[encoded data removed]",
      "text/plain": [
       "<Figure size 432x288 with 1 Axes>"
      ]
     },
     "metadata": {
      "needs_background": "light"
     },
     "output_type": "display_data"
    }
   ],
   "source": [
    "plt.scatter(x,y,c='blue',label='data',s=10)\n",
    "plt.title('IDL',color='y',fontsize=12)\n",
    "plt.xlabel('E.P.',color='crimson',fontsize=10)\n",
    "plt.ylabel('abundance',color='crimson',fontsize=10)\n",
    "plt.legend(loc=1)\n",
    "#plt.show()\n",
    "plt.savefig('C:/Users/Primary Magnetism/Desktop/新建文件夹 (2)/002.eps',dpi=100)"
   ]
  },
  {
   "cell_type": "code",
   "execution_count": 35,
   "metadata": {},
   "outputs": [
    {
     "data": {
      "image/png": "[encoded data removed]",
      "text/plain": [
       "<Figure size 432x288 with 1 Axes>"
      ]
     },
     "metadata": {
      "needs_background": "light"
     },
     "output_type": "display_data"
    }
   ],
   "source": [
    "x1 =hdu['E.W.']\n",
    "y =hdu['log(A)']\n",
    "plt.scatter(x1,y,c='lime',label='data',s=10)\n",
    "plt.title('IDL',color='y',fontsize=12)\n",
    "plt.xlabel('E.W.',color='crimson',fontsize=10)\n",
    "plt.ylabel('abundance',color='crimson',fontsize=10)\n",
    "plt.legend(loc=1)\n",
    "#plt.show()\n",
    "plt.savefig('C:/Users/Primary Magnetism/Desktop/新建文件夹 (2)/001.eps',dpi=100)"
   ]
  },
  {
   "cell_type": "code",
   "execution_count": null,
   "metadata": {},
   "outputs": [],
   "source": []
  }
 ],
 "metadata": {
  "kernelspec": {
   "display_name": "Python 3",
   "language": "python",
   "name": "python3"
  },
  "language_info": {
   "codemirror_mode": {
    "name": "ipython",
    "version": 3
   },
   "file_extension": ".py",
   "mimetype": "text/x-python",
   "name": "python",
   "nbconvert_exporter": "python",
   "pygments_lexer": "ipython3",
   "version": "3.7.3"
  }
 },
 "nbformat": 4,
 "nbformat_minor": 2
}
