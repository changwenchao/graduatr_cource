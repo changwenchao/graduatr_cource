{
 "cells": [
  {
   "cell_type": "code",
   "execution_count": 27,
   "metadata": {},
   "outputs": [
    {
     "ename": "ModuleNotFoundError",
     "evalue": "No module named 'seaborn'",
     "output_type": "error",
     "traceback": [
      "\u001b[0;31m---------------------------------------------------------------------------\u001b[0m",
      "\u001b[0;31mModuleNotFoundError\u001b[0m                       Traceback (most recent call last)",
      "\u001b[0;32m<ipython-input-27-40ee1b3488c7>\u001b[0m in \u001b[0;36m<module>\u001b[0;34m\u001b[0m\n\u001b[1;32m      3\u001b[0m \u001b[0;32mimport\u001b[0m \u001b[0mnumpy\u001b[0m \u001b[0;32mas\u001b[0m \u001b[0mnp\u001b[0m\u001b[0;34m\u001b[0m\u001b[0;34m\u001b[0m\u001b[0m\n\u001b[1;32m      4\u001b[0m \u001b[0;32mimport\u001b[0m \u001b[0mmatplotlib\u001b[0m\u001b[0;34m.\u001b[0m\u001b[0mpyplot\u001b[0m \u001b[0;32mas\u001b[0m \u001b[0mplt\u001b[0m\u001b[0;34m\u001b[0m\u001b[0;34m\u001b[0m\u001b[0m\n\u001b[0;32m----> 5\u001b[0;31m \u001b[0;32mimport\u001b[0m \u001b[0mseaborn\u001b[0m \u001b[0;32mas\u001b[0m \u001b[0msns\u001b[0m\u001b[0;34m\u001b[0m\u001b[0;34m\u001b[0m\u001b[0m\n\u001b[0m\u001b[1;32m      6\u001b[0m \u001b[0msns\u001b[0m\u001b[0;34m.\u001b[0m\u001b[0mset\u001b[0m\u001b[0;34m(\u001b[0m\u001b[0mstyle\u001b[0m\u001b[0;34m=\u001b[0m\u001b[0;34m\"whitegrid\"\u001b[0m\u001b[0;34m)\u001b[0m\u001b[0;34m\u001b[0m\u001b[0;34m\u001b[0m\u001b[0m\n",
      "\u001b[0;31mModuleNotFoundError\u001b[0m: No module named 'seaborn'"
     ]
    }
   ],
   "source": [
    "from scipy import stats\n",
    "from scipy import optimize\n",
    "import numpy as np\n",
    "import matplotlib.pyplot as plt\n",
    "import seaborn as sns\n",
    "sns.set(style=\"whitegrid\")\n"
   ]
  },
  {
   "cell_type": "code",
   "execution_count": 28,
   "metadata": {},
   "outputs": [],
   "source": [
    "x = np.array([3.5, 1.1, 3.2, 2.8, 6.7, 4.4, 0.9, 2.2])"
   ]
  },
  {
   "cell_type": "code",
   "execution_count": 29,
   "metadata": {
    "scrolled": true
   },
   "outputs": [
    {
     "data": {
      "text/plain": [
       "3.1"
      ]
     },
     "execution_count": 29,
     "metadata": {},
     "output_type": "execute_result"
    }
   ],
   "source": [
    "np.mean(x)"
   ]
  },
  {
   "cell_type": "code",
   "execution_count": 30,
   "metadata": {},
   "outputs": [
    {
     "data": {
      "text/plain": [
       "0.02130412813448701"
      ]
     },
     "execution_count": 30,
     "metadata": {},
     "output_type": "execute_result"
    }
   ],
   "source": [
    "np.random.rand()"
   ]
  },
  {
   "cell_type": "code",
   "execution_count": 7,
   "metadata": {},
   "outputs": [
    {
     "data": {
      "text/plain": [
       "array([9, 4, 7, 6, 6, 3, 6, 0, 7, 5])"
      ]
     },
     "execution_count": 7,
     "metadata": {},
     "output_type": "execute_result"
    }
   ],
   "source": [
    "np.random.randint(10, size=10)"
   ]
  },
  {
   "cell_type": "code",
   "execution_count": 24,
   "metadata": {},
   "outputs": [
    {
     "data": {
      "text/plain": [
       "(array([2.000e+00, 0.000e+00, 0.000e+00, 2.000e+00, 2.000e+00, 4.000e+00,\n",
       "        1.000e+00, 3.000e+00, 3.000e+00, 5.000e+00, 9.000e+00, 1.600e+01,\n",
       "        1.500e+01, 2.100e+01, 2.300e+01, 3.400e+01, 4.800e+01, 5.600e+01,\n",
       "        8.200e+01, 9.300e+01, 1.230e+02, 1.430e+02, 1.840e+02, 2.180e+02,\n",
       "        3.020e+02, 3.290e+02, 3.870e+02, 4.660e+02, 5.630e+02, 6.510e+02,\n",
       "        8.120e+02, 9.460e+02, 1.042e+03, 1.188e+03, 1.325e+03, 1.484e+03,\n",
       "        1.649e+03, 1.851e+03, 2.068e+03, 2.237e+03, 2.342e+03, 2.496e+03,\n",
       "        2.670e+03, 2.980e+03, 3.079e+03, 3.159e+03, 3.301e+03, 3.330e+03,\n",
       "        3.476e+03, 3.466e+03, 3.481e+03, 3.438e+03, 3.410e+03, 3.304e+03,\n",
       "        3.262e+03, 3.172e+03, 3.044e+03, 2.934e+03, 2.663e+03, 2.587e+03,\n",
       "        2.343e+03, 2.169e+03, 1.969e+03, 1.816e+03, 1.652e+03, 1.437e+03,\n",
       "        1.265e+03, 1.142e+03, 9.930e+02, 8.620e+02, 7.520e+02, 6.120e+02,\n",
       "        5.670e+02, 4.580e+02, 3.830e+02, 3.000e+02, 2.600e+02, 2.240e+02,\n",
       "        1.880e+02, 1.300e+02, 1.150e+02, 8.900e+01, 5.900e+01, 6.100e+01,\n",
       "        3.800e+01, 3.300e+01, 2.200e+01, 1.900e+01, 1.900e+01, 1.300e+01,\n",
       "        1.100e+01, 5.000e+00, 3.000e+00, 2.000e+00, 2.000e+00, 1.000e+00,\n",
       "        0.000e+00, 1.000e+00, 2.000e+00, 2.000e+00]),\n",
       " array([-4.37077018, -4.28387898, -4.19698778, -4.11009658, -4.02320538,\n",
       "        -3.93631418, -3.84942298, -3.76253178, -3.67564059, -3.58874939,\n",
       "        -3.50185819, -3.41496699, -3.32807579, -3.24118459, -3.15429339,\n",
       "        -3.06740219, -2.98051099, -2.89361979, -2.80672859, -2.71983739,\n",
       "        -2.6329462 , -2.546055  , -2.4591638 , -2.3722726 , -2.2853814 ,\n",
       "        -2.1984902 , -2.111599  , -2.0247078 , -1.9378166 , -1.8509254 ,\n",
       "        -1.7640342 , -1.677143  , -1.59025181, -1.50336061, -1.41646941,\n",
       "        -1.32957821, -1.24268701, -1.15579581, -1.06890461, -0.98201341,\n",
       "        -0.89512221, -0.80823101, -0.72133981, -0.63444861, -0.54755742,\n",
       "        -0.46066622, -0.37377502, -0.28688382, -0.19999262, -0.11310142,\n",
       "        -0.02621022,  0.06068098,  0.14757218,  0.23446338,  0.32135458,\n",
       "         0.40824578,  0.49513697,  0.58202817,  0.66891937,  0.75581057,\n",
       "         0.84270177,  0.92959297,  1.01648417,  1.10337537,  1.19026657,\n",
       "         1.27715777,  1.36404897,  1.45094017,  1.53783137,  1.62472256,\n",
       "         1.71161376,  1.79850496,  1.88539616,  1.97228736,  2.05917856,\n",
       "         2.14606976,  2.23296096,  2.31985216,  2.40674336,  2.49363456,\n",
       "         2.58052576,  2.66741695,  2.75430815,  2.84119935,  2.92809055,\n",
       "         3.01498175,  3.10187295,  3.18876415,  3.27565535,  3.36254655,\n",
       "         3.44943775,  3.53632895,  3.62322015,  3.71011134,  3.79700254,\n",
       "         3.88389374,  3.97078494,  4.05767614,  4.14456734,  4.23145854,\n",
       "         4.31834974]),\n",
       " <a list of 100 Patch objects>)"
      ]
     },
     "execution_count": 24,
     "metadata": {},
     "output_type": "execute_result"
    },
    {
     "data": {
      "image/png": "[encoded data removed]",
      "text/plain": [
       "<Figure size 864x216 with 3 Axes>"
      ]
     },
     "metadata": {
      "needs_background": "light"
     },
     "output_type": "display_data"
    }
   ],
   "source": [
    "fig,axes = plt.subplots(1, 3, figsize=(12, 3))\n",
    "axes[0].hist(np.random.rand(100000))\n",
    "axes[1].hist(np.random.randn(100000),100)"
   ]
  },
  {
   "cell_type": "code",
   "execution_count": null,
   "metadata": {},
   "outputs": [],
   "source": []
  }
 ],
 "metadata": {
  "kernelspec": {
   "display_name": "Python 3",
   "language": "python",
   "name": "python3"
  },
  "language_info": {
   "codemirror_mode": {
    "name": "ipython",
    "version": 3
   },
   "file_extension": ".py",
   "mimetype": "text/x-python",
   "name": "python",
   "nbconvert_exporter": "python",
   "pygments_lexer": "ipython3",
   "version": "3.6.7"
  }
 },
 "nbformat": 4,
 "nbformat_minor": 2
}
